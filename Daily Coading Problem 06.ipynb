{
 "cells": [
  {
   "cell_type": "markdown",
   "id": "97a89f50",
   "metadata": {},
   "source": [
    "# Daily Coading Problem 06"
   ]
  },
  {
   "cell_type": "raw",
   "id": "1b754877",
   "metadata": {},
   "source": [
    "This problem was asked by Google.\n",
    "\n",
    "An XOR linked list is a more memory efficient doubly linked list. Instead of each node holding next and prev fields, it holds a field named both, which is an XOR of the next node and the previous node. Implement an XOR linked list; it has an add(element) which adds the element to the end, and a get(index) which returns the node at index.\n",
    "\n",
    "If using a language that has no pointers (such as Python), you can assume you have access to get_pointer and dereference_pointer functions that converts between nodes and memory addresses.\n",
    "\n"
   ]
  },
  {
   "cell_type": "raw",
   "id": "c4621a26",
   "metadata": {},
   "source": [
    "Let’s understand the problem. Instead of using our traditional next and prev variables to store the next and previous node’s address, we will use a both pointer which stores the XOR of the next and previous node’s address. Might be a little confusing, let’s visualize with an example\n",
    "\n",
    "A ←→ B ←→ C ←→ D\n",
    "A.both contains B\n",
    "B.both contains A^C\n",
    "C.both contains B^D\n",
    "D.both contains C\n",
    "\n",
    "Now how do iterate through the list or how do we find the address of the next node since the current node’s both contains the XOR or previous and the next node. It turns out that it is quite simple. If we do XOR of the previous node’s both with the current node, we get the pointer to the next node. We can initialize the previous to be 0 . And XOR or anything with 0 is itself."
   ]
  },
  {
   "cell_type": "code",
   "execution_count": null,
   "id": "0ae2dfbc",
   "metadata": {},
   "outputs": [],
   "source": [
    "import ctypes\n",
    "\n",
    "\n",
    "def _get_obj(id):\n",
    "    return ctypes.cast(id, ctypes.py_object).value\n",
    "\n",
    "\n",
    "class Node:\n",
    "\n",
    "    def __init__(self, val):\n",
    "        self.val = val\n",
    "        self.both = 0\n",
    "\n",
    "\n",
    "class XORLinkedList:\n",
    "\n",
    "    def __init__(self):\n",
    "        self.head = self.tail = None\n",
    "        self.__nodes = []\n",
    "\n",
    "    def add(self, element):\n",
    "        node = Node(element)\n",
    "        if self.head is None:\n",
    "            self.head = self.tail = node\n",
    "        else:\n",
    "            node.both = id(self.tail)\n",
    "            self.tail.both = id(node) ^ self.tail.both\n",
    "            self.tail = node\n",
    "\n",
    "    def get(self, index):\n",
    "        head = self.head\n",
    "        prev = 0\n",
    "        for i in range(index):\n",
    "            next = head.both ^ prev\n",
    "            if next:\n",
    "                prev = id(head)\n",
    "                head = _get_obj(next)\n",
    "        return head.val\n",
    "\n",
    "\n",
    "xor_ll = XORLinkedList()\n",
    "xor_ll.add('1')\n",
    "xor_ll.add('2')\n",
    "xor_ll.add('3')\n",
    "\n",
    "assert xor_ll.get(0) == '1'\n",
    "assert xor_ll.get(1) == '2'\n",
    "assert xor_ll.get(2) == '3'"
   ]
  },
  {
   "cell_type": "raw",
   "id": "bc60fa9f",
   "metadata": {},
   "source": [
    "Time Complexity for add : O(1)\n",
    "Time Complexity for get : O(n)"
   ]
  }
 ],
 "metadata": {
  "kernelspec": {
   "display_name": "Python 3 (ipykernel)",
   "language": "python",
   "name": "python3"
  },
  "language_info": {
   "codemirror_mode": {
    "name": "ipython",
    "version": 3
   },
   "file_extension": ".py",
   "mimetype": "text/x-python",
   "name": "python",
   "nbconvert_exporter": "python",
   "pygments_lexer": "ipython3",
   "version": "3.8.10"
  }
 },
 "nbformat": 4,
 "nbformat_minor": 5
}
